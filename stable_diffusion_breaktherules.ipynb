{
  "nbformat": 4,
  "nbformat_minor": 0,
  "metadata": {
    "colab": {
      "provenance": [],
      "gpuType": "T4",
      "authorship_tag": "ABX9TyMMXFxQrEKbpjDNx8wRL3LS",
      "include_colab_link": true
    },
    "kernelspec": {
      "name": "python3",
      "display_name": "Python 3"
    },
    "language_info": {
      "name": "python"
    },
    "accelerator": "GPU",
    "gpuClass": "standard"
  },
  "cells": [
    {
      "cell_type": "markdown",
      "metadata": {
        "id": "view-in-github",
        "colab_type": "text"
      },
      "source": [
        "<a href=\"https://colab.research.google.com/github/Xelszy/stablebreaktest/blob/main/stable_diffusion_breaktherules.ipynb\" target=\"_parent\"><img src=\"https://colab.research.google.com/assets/colab-badge.svg\" alt=\"Open In Colab\"/></a>"
      ]
    },
    {
      "cell_type": "code",
      "execution_count": null,
      "metadata": {
        "colab": {
          "base_uri": "https://localhost:8080/"
        },
        "id": "aRQ4L1_fqBiS",
        "outputId": "333f6ec8-8932-41f1-c9b4-5609a3e1b4e2"
      },
      "outputs": [
        {
          "output_type": "stream",
          "name": "stdout",
          "text": [
            "/content\n",
            "env: TF_CPP_MIN_LOG_LEVEL=1\n",
            "26 packages can be upgraded. Run 'apt list --upgradable' to see them.\n",
            "--2023-04-21 06:08:10--  http://launchpadlibrarian.net/367274644/libgoogle-perftools-dev_2.5-2.2ubuntu3_amd64.deb\n",
            "Resolving launchpadlibrarian.net (launchpadlibrarian.net)... 185.125.189.229, 185.125.189.228, 2620:2d:4000:1001::8008, ...\n",
            "Connecting to launchpadlibrarian.net (launchpadlibrarian.net)|185.125.189.229|:80... connected.\n",
            "HTTP request sent, awaiting response... 200 OK\n",
            "Length: 203696 (199K) [application/x-debian-package]\n",
            "Saving to: ‘libgoogle-perftools-dev_2.5-2.2ubuntu3_amd64.deb’\n",
            "\n",
            "libgoogle-perftools 100%[===================>] 198.92K   499KB/s    in 0.4s    \n",
            "\n",
            "2023-04-21 06:08:11 (499 KB/s) - ‘libgoogle-perftools-dev_2.5-2.2ubuntu3_amd64.deb’ saved [203696/203696]\n",
            "\n",
            "--2023-04-21 06:08:11--  https://launchpad.net/ubuntu/+source/google-perftools/2.5-2.2ubuntu3/+build/14795286/+files/google-perftools_2.5-2.2ubuntu3_all.deb\n",
            "Resolving launchpad.net (launchpad.net)... 185.125.189.223, 185.125.189.222, 2620:2d:4000:1001::8004, ...\n",
            "Connecting to launchpad.net (launchpad.net)|185.125.189.223|:443... connected.\n",
            "HTTP request sent, awaiting response... 303 See Other\n",
            "Location: https://launchpadlibrarian.net/367274642/google-perftools_2.5-2.2ubuntu3_all.deb [following]\n",
            "--2023-04-21 06:08:11--  https://launchpadlibrarian.net/367274642/google-perftools_2.5-2.2ubuntu3_all.deb\n",
            "Resolving launchpadlibrarian.net (launchpadlibrarian.net)... 185.125.189.229, 185.125.189.228, 2620:2d:4000:1001::8008, ...\n",
            "Connecting to launchpadlibrarian.net (launchpadlibrarian.net)|185.125.189.229|:443... connected.\n",
            "HTTP request sent, awaiting response... 200 OK\n",
            "Length: 294224 (287K) [application/x-debian-package]\n",
            "Saving to: ‘google-perftools_2.5-2.2ubuntu3_all.deb’\n",
            "\n",
            "google-perftools_2. 100%[===================>] 287.33K   601KB/s    in 0.5s    \n",
            "\n",
            "2023-04-21 06:08:12 (601 KB/s) - ‘google-perftools_2.5-2.2ubuntu3_all.deb’ saved [294224/294224]\n",
            "\n",
            "--2023-04-21 06:08:12--  https://launchpad.net/ubuntu/+source/google-perftools/2.5-2.2ubuntu3/+build/14795286/+files/libtcmalloc-minimal4_2.5-2.2ubuntu3_amd64.deb\n",
            "Resolving launchpad.net (launchpad.net)... 185.125.189.222, 185.125.189.223, 2620:2d:4000:1001::8004, ...\n",
            "Connecting to launchpad.net (launchpad.net)|185.125.189.222|:443... connected.\n",
            "HTTP request sent, awaiting response... 303 See Other\n",
            "Location: https://launchpadlibrarian.net/367274648/libtcmalloc-minimal4_2.5-2.2ubuntu3_amd64.deb [following]\n",
            "--2023-04-21 06:08:13--  https://launchpadlibrarian.net/367274648/libtcmalloc-minimal4_2.5-2.2ubuntu3_amd64.deb\n",
            "Resolving launchpadlibrarian.net (launchpadlibrarian.net)... 185.125.189.229, 185.125.189.228, 2620:2d:4000:1001::8008, ...\n",
            "Connecting to launchpadlibrarian.net (launchpadlibrarian.net)|185.125.189.229|:443... connected.\n",
            "HTTP request sent, awaiting response... 200 OK\n",
            "Length: 91644 (89K) [application/x-debian-package]\n",
            "Saving to: ‘libtcmalloc-minimal4_2.5-2.2ubuntu3_amd64.deb’\n",
            "\n",
            "libtcmalloc-minimal 100%[===================>]  89.50K   354KB/s    in 0.3s    \n",
            "\n",
            "2023-04-21 06:08:14 (354 KB/s) - ‘libtcmalloc-minimal4_2.5-2.2ubuntu3_amd64.deb’ saved [91644/91644]\n",
            "\n",
            "--2023-04-21 06:08:14--  https://launchpad.net/ubuntu/+source/google-perftools/2.5-2.2ubuntu3/+build/14795286/+files/libgoogle-perftools4_2.5-2.2ubuntu3_amd64.deb\n",
            "Resolving launchpad.net (launchpad.net)... 185.125.189.222, 185.125.189.223, 2620:2d:4000:1001::8004, ...\n",
            "Connecting to launchpad.net (launchpad.net)|185.125.189.222|:443... connected.\n",
            "HTTP request sent, awaiting response... 303 See Other\n",
            "Location: https://launchpadlibrarian.net/367274647/libgoogle-perftools4_2.5-2.2ubuntu3_amd64.deb [following]\n",
            "--2023-04-21 06:08:14--  https://launchpadlibrarian.net/367274647/libgoogle-perftools4_2.5-2.2ubuntu3_amd64.deb\n",
            "Resolving launchpadlibrarian.net (launchpadlibrarian.net)... 185.125.189.229, 185.125.189.228, 2620:2d:4000:1001::8008, ...\n",
            "Connecting to launchpadlibrarian.net (launchpadlibrarian.net)|185.125.189.229|:443... connected.\n",
            "HTTP request sent, awaiting response... 200 OK\n",
            "Length: 189628 (185K) [application/x-debian-package]\n",
            "Saving to: ‘libgoogle-perftools4_2.5-2.2ubuntu3_amd64.deb’\n",
            "\n",
            "libgoogle-perftools 100%[===================>] 185.18K   491KB/s    in 0.4s    \n",
            "\n",
            "2023-04-21 06:08:15 (491 KB/s) - ‘libgoogle-perftools4_2.5-2.2ubuntu3_amd64.deb’ saved [189628/189628]\n",
            "\n",
            "The following NEW packages will be installed:\n",
            "  libunwind-dev\n",
            "0 upgraded, 1 newly installed, 0 to remove and 26 not upgraded.\n",
            "Need to get 472 kB of archives.\n",
            "After this operation, 4,164 kB of additional disk space will be used.\n",
            "Selecting previously unselected package libunwind-dev:amd64.\n",
            "(Reading database ... 122352 files and directories currently installed.)\n",
            "Preparing to unpack .../libunwind-dev_1.2.1-9ubuntu0.1_amd64.deb ...\n",
            "Unpacking libunwind-dev:amd64 (1.2.1-9ubuntu0.1) ...\n",
            "Setting up libunwind-dev:amd64 (1.2.1-9ubuntu0.1) ...\n",
            "Processing triggers for man-db (2.9.1-1) ...\n",
            "\u001b[1mdpkg:\u001b[0m \u001b[1;33mwarning:\u001b[0m downgrading google-perftools from 2.7-1ubuntu2 to 2.5-2.2ubuntu3\n",
            "(Reading database ... 122405 files and directories currently installed.)\n",
            "Preparing to unpack google-perftools_2.5-2.2ubuntu3_all.deb ...\n",
            "Unpacking google-perftools (2.5-2.2ubuntu3) over (2.7-1ubuntu2) ...\n",
            "\u001b[1mdpkg:\u001b[0m \u001b[1;33mwarning:\u001b[0m downgrading libgoogle-perftools4:amd64 from 2.7-1ubuntu2 to 2.5-2.2ubuntu3\n",
            "Preparing to unpack libgoogle-perftools4_2.5-2.2ubuntu3_amd64.deb ...\n",
            "Unpacking libgoogle-perftools4 (2.5-2.2ubuntu3) over (2.7-1ubuntu2) ...\n",
            "Selecting previously unselected package libgoogle-perftools-dev.\n",
            "Preparing to unpack libgoogle-perftools-dev_2.5-2.2ubuntu3_amd64.deb ...\n",
            "Unpacking libgoogle-perftools-dev (2.5-2.2ubuntu3) ...\n",
            "\u001b[1mdpkg:\u001b[0m \u001b[1;33mwarning:\u001b[0m downgrading libtcmalloc-minimal4:amd64 from 2.7-1ubuntu2 to 2.5-2.2ubuntu3\n",
            "Preparing to unpack libtcmalloc-minimal4_2.5-2.2ubuntu3_amd64.deb ...\n",
            "Unpacking libtcmalloc-minimal4 (2.5-2.2ubuntu3) over (2.7-1ubuntu2) ...\n",
            "Setting up libtcmalloc-minimal4 (2.5-2.2ubuntu3) ...\n",
            "Setting up libgoogle-perftools4 (2.5-2.2ubuntu3) ...\n",
            "Setting up libgoogle-perftools-dev (2.5-2.2ubuntu3) ...\n",
            "Setting up google-perftools (2.5-2.2ubuntu3) ...\n",
            "Processing triggers for man-db (2.9.1-1) ...\n",
            "Processing triggers for libc-bin (2.31-0ubuntu9.9) ...\n",
            "env: LD_PRELOAD=libtcmalloc.so\n",
            "The following additional packages will be installed:\n",
            "  libaria2-0 libc-ares2\n",
            "The following NEW packages will be installed:\n",
            "  aria2 libaria2-0 libc-ares2\n",
            "0 upgraded, 3 newly installed, 0 to remove and 30 not upgraded.\n",
            "Need to get 1,475 kB of archives.\n",
            "After this operation, 5,959 kB of additional disk space will be used.\n",
            "Selecting previously unselected package libc-ares2:amd64.\n",
            "(Reading database ... 122496 files and directories currently installed.)\n",
            "Preparing to unpack .../libc-ares2_1.15.0-1ubuntu0.2_amd64.deb ...\n",
            "Unpacking libc-ares2:amd64 (1.15.0-1ubuntu0.2) ...\n",
            "Selecting previously unselected package libaria2-0:amd64.\n",
            "Preparing to unpack .../libaria2-0_1.35.0-1build1_amd64.deb ...\n",
            "Unpacking libaria2-0:amd64 (1.35.0-1build1) ...\n",
            "Selecting previously unselected package aria2.\n",
            "Preparing to unpack .../aria2_1.35.0-1build1_amd64.deb ...\n",
            "Unpacking aria2 (1.35.0-1build1) ...\n",
            "Setting up libc-ares2:amd64 (1.15.0-1ubuntu0.2) ...\n",
            "Setting up libaria2-0:amd64 (1.35.0-1build1) ...\n",
            "Setting up aria2 (1.35.0-1build1) ...\n",
            "Processing triggers for man-db (2.9.1-1) ...\n",
            "Processing triggers for libc-bin (2.31-0ubuntu9.9) ...\n",
            "\u001b[2K     \u001b[91m━━━━━━━━━━━━━━━━━━━━━━━━━━━━━━━━━━━━━━━\u001b[0m\u001b[91m╸\u001b[0m \u001b[32m2.0/2.0 GB\u001b[0m \u001b[31m113.4 MB/s\u001b[0m eta \u001b[36m0:00:01\u001b[0mtcmalloc: large alloc 1977925632 bytes == 0x3d18000 @  0x7feb6bee01e7 0x6e6e9e 0x629594 0x685a9c 0x564b38 0x564bcf 0x53f72a 0x5ab826 0x62c994 0x5ab826 0x62c994 0x5ab826 0x62c994 0x5ab826 0x62c994 0x5ab826 0x62c994 0x5ab826 0x62c1d3 0x62c60f 0x5ab826 0x62c994 0x5ac335 0x62c994 0x5ab826 0x62c994 0x5ab826 0x62c994 0x548478 0x537b6a 0x6a2ad6\n",
            "\u001b[2K     \u001b[91m━━━━━━━━━━━━━━━━━━━━━━━━━━━━━━━━━━━━━━━\u001b[0m\u001b[91m╸\u001b[0m \u001b[32m2.0/2.0 GB\u001b[0m \u001b[31m113.4 MB/s\u001b[0m eta \u001b[36m0:00:01\u001b[0mtcmalloc: large alloc 2472411136 bytes == 0x79b64000 @  0x7feb6bee1615 0x629504 0x685a9c 0x564b38 0x564bcf 0x53f72a 0x5ab826 0x62c994 0x5ab826 0x62c994 0x5ab826 0x62c994 0x5ab826 0x62c994 0x5ab826 0x62c994 0x5ab826 0x62c1d3 0x62c60f 0x5ab826 0x62c994 0x5ac335 0x62c994 0x5ab826 0x62c994 0x5ab826 0x62c994 0x548478 0x537b6a 0x6a2ad6 0x5afd01\n",
            "tcmalloc: large alloc 1977925632 bytes == 0x3d18000 @  0x7feb6bee01e7 0x62e9b6 0x630070 0x53f72a 0x5ab826 0x62c994 0x5ab826 0x62c994 0x5ab826 0x62c994 0x548478 0x537b6a 0x6a2ad6 0x5afd01 0x62c1d3 0x5482c4 0x5afd01 0x5a9eb4 0x5483e1 0x5afd01 0x62c1d3 0x62c60f 0x5ab826 0x5a9eb4 0x5483e1 0x5ac335 0x53d523 0x5abacc 0x53d523 0x5abacc 0x53d523\n",
            "\u001b[2K     \u001b[90m━━━━━━━━━━━━━━━━━━━━━━━━━━━━━━━━━━━━━━━━\u001b[0m \u001b[32m2.0/2.0 GB\u001b[0m \u001b[31m845.6 kB/s\u001b[0m eta \u001b[36m0:00:00\u001b[0m\n",
            "\u001b[2K     \u001b[90m━━━━━━━━━━━━━━━━━━━━━━━━━━━━━━━━━━━━━━━━\u001b[0m \u001b[32m24.2/24.2 MB\u001b[0m \u001b[31m64.6 MB/s\u001b[0m eta \u001b[36m0:00:00\u001b[0m\n",
            "\u001b[2K     \u001b[90m━━━━━━━━━━━━━━━━━━━━━━━━━━━━━━━━━━━━━━━━\u001b[0m \u001b[32m4.2/4.2 MB\u001b[0m \u001b[31m75.9 MB/s\u001b[0m eta \u001b[36m0:00:00\u001b[0m\n",
            "\u001b[2K     \u001b[90m━━━━━━━━━━━━━━━━━━━━━━━━━━━━━━━━━━━━━━━━\u001b[0m \u001b[32m2.0/2.0 MB\u001b[0m \u001b[31m24.6 MB/s\u001b[0m eta \u001b[36m0:00:00\u001b[0m\n",
            "\u001b[2K     \u001b[90m━━━━━━━━━━━━━━━━━━━━━━━━━━━━━━━━━━━━━━━━\u001b[0m \u001b[32m4.6/4.6 MB\u001b[0m \u001b[31m82.6 MB/s\u001b[0m eta \u001b[36m0:00:00\u001b[0m\n",
            "\u001b[?25h"
          ]
        }
      ],
      "source": [
        "%cd /content\n",
        "\n",
        "%env TF_CPP_MIN_LOG_LEVEL=1\n",
        "\n",
        "!apt -y update -qq\n",
        "!wget http://launchpadlibrarian.net/367274644/libgoogle-perftools-dev_2.5-2.2ubuntu3_amd64.deb\n",
        "!wget https://launchpad.net/ubuntu/+source/google-perftools/2.5-2.2ubuntu3/+build/14795286/+files/google-perftools_2.5-2.2ubuntu3_all.deb\n",
        "!wget https://launchpad.net/ubuntu/+source/google-perftools/2.5-2.2ubuntu3/+build/14795286/+files/libtcmalloc-minimal4_2.5-2.2ubuntu3_amd64.deb\n",
        "!wget https://launchpad.net/ubuntu/+source/google-perftools/2.5-2.2ubuntu3/+build/14795286/+files/libgoogle-perftools4_2.5-2.2ubuntu3_amd64.deb\n",
        "!apt install -qq libunwind8-dev\n",
        "!dpkg -i *.deb\n",
        "%env LD_PRELOAD=libtcmalloc.so\n",
        "!rm *.deb\n",
        "\n",
        "!apt -y install -qq aria2\n",
        "!pip install -q torch==1.13.1+cu116 torchvision==0.14.1+cu116 torchaudio==0.13.1 torchtext==0.14.1 torchdata==0.5.1 --extra-index-url https://download.pytorch.org/whl/cu116 -U\n",
        "!pip install -q xformers==0.0.16 triton==2.0.0 -U\n",
        "\n",
        "!git clone https://github.com/Xelszy/stablebreaktest /content/breaktherules\n",
        "!python /content/breaktherules/stablebreaktest.py\n",
        "\n",
        "%cd /content/stablebreaktest\n",
        "!aria2c --console-log-level=error -c -x 16 -s 16 -k 1M https://huggingface.co/ixelszy/For-upload-folder/resolve/main/anime_model_goodfornsfw.safetensors -d /content/stablebreaktest/models/Stable-diffusion -o model_nsfw.safetensors\n",
        "!aria2c --console-log-level=error -c -x 16 -s 16 -k 1M https://huggingface.co/p1atdev/graupel-v1/resolve/main/graupel-v1-nobody-fp16.safetensors -d /content/stablebreaktest/models/Stable-diffusion -o graupel.safetensors\n",
        "!aria2c --console-log-level=error -c -x 16 -s 16 -k 1M https://huggingface.co/ixelszy/For-upload-folder/resolve/main/merge.3.safetensors -d /content/stablebreaktest/models/Stable-diffusion -o merge3realistic.safetensors\n",
        "!aria2c --console-log-level=error -c -x 16 -s 16 -k 1M https://huggingface.co/ckpt/sd-vae-ft-mse-original/resolve/main/vae-ft-mse-840000-ema-pruned.ckpt -d /content/stablebreaktest/models/Stable-diffusion -o vae-ft.vae.pt\n",
        "\n",
        "!sed -i -e '''/    prepare_environment()/a\\    os.system\\(f\\\"\"\"sed -i -e ''\\\"s/dict()))/dict())).cuda()/g\\\"'' /content/volatile-concentration-localux/repositories/stable-diffusion-stability-ai/ldm/util.py\"\"\")''' /content/stablebreaktest/launch.py\n",
        "!sed -i -e 's/\\\"sd_model_checkpoint\\\"\\,/\\\"sd_model_checkpoint\\,sd_vae\\,CLIP_stop_at_last_layers\\\"\\,/g' /content/stablebreaktest/modules/shared.py\n",
        "\n",
        "!python launch.py --listen --xformers --enable-insecure-extension-access --theme dark --gradio-queue --multiple"
      ]
    },
    {
      "cell_type": "code",
      "source": [
        "!git clone -b v2.1 https://github.com/camenduru/stable-diffusion-webui /content/volatile-concentration-localux"
      ],
      "metadata": {
        "colab": {
          "base_uri": "https://localhost:8080/"
        },
        "id": "pCs85gbLDnnY",
        "outputId": "bbdb63ce-ccaa-4cdd-a7a4-8fd08453c691"
      },
      "execution_count": 4,
      "outputs": [
        {
          "output_type": "stream",
          "name": "stdout",
          "text": [
            "sed: can't read /content/stablebreaktest/launch.py: No such file or directory\n",
            "sed: can't read /content/stablebreaktest/modules/shared.py: No such file or directory\n",
            "python3: can't open file '/content/stablebreaktest/launch.py': [Errno 2] No such file or directory\n"
          ]
        }
      ]
    }
  ]
}